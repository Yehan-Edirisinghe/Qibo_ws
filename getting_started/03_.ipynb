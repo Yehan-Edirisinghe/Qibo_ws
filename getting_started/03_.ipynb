{
 "cells": [
  {
   "cell_type": "markdown",
   "id": "d24f33fc",
   "metadata": {},
   "source": [
    "Variantional Quantum Classifier"
   ]
  },
  {
   "cell_type": "code",
   "execution_count": 1,
   "id": "103b5ac6",
   "metadata": {},
   "outputs": [],
   "source": [
    "import numpy as np\n",
    "import matplotlib.pyplot as plt\n",
    "plt.style.use('dark_background')    # Use dark background for plots\n",
    "\n",
    "import qibo\n",
    "assert qibo.__version__ >= \"0.2.20\", \"This script requires qibo version 0.2.20 or higher.\"\n",
    "from qibo import Circuit\n",
    "from qibo.gates import *\n",
    "\n",
    "from qibo.ui import plot_circuit, plot_density_hist, visualize_state\n",
    "\n",
    "\n",
    "custom_style = {                    # Define a custom style for the circuit plot\n",
    "    \"facecolor\" : \"#000000\",\n",
    "    \"edgecolor\" : \"#ffffff\",\n",
    "    \"linecolor\" : \"#ffffff\",\n",
    "    \"textcolor\" : \"#ffffff\",\n",
    "    \"fillcolor\" : \"#c41b1b\",\n",
    "    \"gatecolor\" : \"#9000ff\",\n",
    "    \"controlcolor\" : \"#360000\"\n",
    "}"
   ]
  },
  {
   "cell_type": "code",
   "execution_count": null,
   "id": "0d091c26",
   "metadata": {},
   "outputs": [],
   "source": [
    "def VQC(parameters, ansatz, shots) -> Circuit:\n",
    "\n",
    "    circuit = Circuit(5)\n",
    "\n",
    "    \n",
    "    return circuit"
   ]
  }
 ],
 "metadata": {
  "kernelspec": {
   "display_name": ".venv",
   "language": "python",
   "name": "python3"
  },
  "language_info": {
   "codemirror_mode": {
    "name": "ipython",
    "version": 3
   },
   "file_extension": ".py",
   "mimetype": "text/x-python",
   "name": "python",
   "nbconvert_exporter": "python",
   "pygments_lexer": "ipython3",
   "version": "3.12.3"
  }
 },
 "nbformat": 4,
 "nbformat_minor": 5
}
