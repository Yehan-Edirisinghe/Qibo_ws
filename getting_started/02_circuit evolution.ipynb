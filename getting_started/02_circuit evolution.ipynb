{
 "cells": [
  {
   "cell_type": "code",
   "execution_count": 1,
   "id": "0d77430e",
   "metadata": {},
   "outputs": [],
   "source": [
    "import numpy as np\n",
    "import matplotlib.pyplot as plt\n",
    "import qibo\n",
    "assert qibo.__version__ >= \"0.2.8\", \"This script requires qibo version 0.2.8 or higher.\" \n",
    "from qibo import Circuit, gates"
   ]
  },
  {
   "cell_type": "code",
   "execution_count": 2,
   "id": "b4b2405e",
   "metadata": {},
   "outputs": [
    {
     "name": "stdout",
     "output_type": "stream",
     "text": [
      "q0: ─H─o───\n",
      "q1: ───X─o─\n",
      "q2: ─────X─\n"
     ]
    }
   ],
   "source": [
    "qc = Circuit(3)\n",
    "qc.add(gates.H(0))\n",
    "qc.add(gates.CNOT(0, 1))\n",
    "qc.add(gates.CNOT(1, 2))\n",
    "\n",
    "print(qc.draw())"
   ]
  },
  {
   "cell_type": "code",
   "execution_count": 3,
   "id": "2c3ab08d",
   "metadata": {},
   "outputs": [
    {
     "name": "stderr",
     "output_type": "stream",
     "text": [
      "[Qibo 0.2.8|INFO|2025-09-11 22:41:06]: Using qibojit (numba) backend on /CPU:0\n"
     ]
    },
    {
     "name": "stdout",
     "output_type": "stream",
     "text": [
      "[7.40937255e-316+7.45744183e-316j 1.13635099e-322+1.13635099e-322j\n",
      " 1.16105427e-321+4.49599738e-322j]\n"
     ]
    }
   ],
   "source": [
    "initial_state = np.zeros(3)\n",
    "result = qc(initial_state)\n",
    "print(result.state())"
   ]
  }
 ],
 "metadata": {
  "kernelspec": {
   "display_name": ".venv",
   "language": "python",
   "name": "python3"
  },
  "language_info": {
   "codemirror_mode": {
    "name": "ipython",
    "version": 3
   },
   "file_extension": ".py",
   "mimetype": "text/x-python",
   "name": "python",
   "nbconvert_exporter": "python",
   "pygments_lexer": "ipython3",
   "version": "3.12.3"
  }
 },
 "nbformat": 4,
 "nbformat_minor": 5
}
