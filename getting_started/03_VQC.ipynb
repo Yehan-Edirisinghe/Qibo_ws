{
 "cells": [
  {
   "cell_type": "markdown",
   "id": "d24f33fc",
   "metadata": {},
   "source": [
    "# Variantional Quantum Classifier"
   ]
  },
  {
   "cell_type": "code",
   "execution_count": 2,
   "id": "103b5ac6",
   "metadata": {},
   "outputs": [],
   "source": [
    "import numpy as np\n",
    "import matplotlib.pyplot as plt\n",
    "plt.style.use('dark_background')    # Use dark background for plots\n",
    "\n",
    "import qibo\n",
    "assert qibo.__version__ >= \"0.2.20\", \"This script requires qibo version 0.2.20 or higher.\"\n",
    "from qibo import Circuit\n",
    "from qibo.gates import *\n",
    "\n",
    "from qibo.ui import plot_circuit, plot_density_hist, visualize_state\n",
    "\n",
    "\n",
    "custom_style = {                    # Define a custom style for the circuit plot\n",
    "    \"facecolor\" : \"#000000\",\n",
    "    \"edgecolor\" : \"#ffffff\",\n",
    "    \"linecolor\" : \"#ffffff\",\n",
    "    \"textcolor\" : \"#ffffff\",\n",
    "    \"fillcolor\" : \"#c41b1b\",\n",
    "    \"gatecolor\" : \"#9000ff\",\n",
    "    \"controlcolor\" : \"#360000\"\n",
    "}"
   ]
  },
  {
   "cell_type": "markdown",
   "id": "bf7f450e",
   "metadata": {},
   "source": [
    "### Steps:\n",
    "\n",
    "- Encode Data Points into qubits\n",
    "\n",
    "- Build Ansatz\n",
    "\n",
    "- Take measuremets of the circuit\n",
    "\n",
    "- Optimize with classical algorithms"
   ]
  },
  {
   "cell_type": "code",
   "execution_count": 45,
   "id": "0d091c26",
   "metadata": {},
   "outputs": [],
   "source": [
    "def VQC_encoder(n_qubits:int, parameters:np.ndarray) -> Circuit:\n",
    "\n",
    "    assert parameters.size==n_qubits, f\"Parameters must be at least as much as the number of qubits: {parameters.size}\"\n",
    "    # Encode Data Points\n",
    "\n",
    "    print( f\"Parametes used for encoding: {parameters}\")\n",
    "    circuit = Circuit(n_qubits)\n",
    "\n",
    "    # Build Ansatz\n",
    "\n",
    "    for i in range(n_qubits):\n",
    "        circuit.add(RZ(i, parameters[i]))\n",
    "    \n",
    "    for i in range(n_qubits-1):\n",
    "        circuit.add(CNOT(i, n_qubits-1))\n",
    "\n",
    "    return circuit"
   ]
  },
  {
   "cell_type": "code",
   "execution_count": 50,
   "id": "70d30f2a",
   "metadata": {},
   "outputs": [
    {
     "name": "stdout",
     "output_type": "stream",
     "text": [
      "Parametes used for encoding: [0.05267662 0.07393474 0.9034122  0.38170059]\n"
     ]
    },
    {
     "data": {
      "text/plain": [
       "(<Axes: >, <Figure size 240x240 with 1 Axes>)"
      ]
     },
     "execution_count": 50,
     "metadata": {},
     "output_type": "execute_result"
    },
    {
     "data": {
      "image/png": "[encoded data removed]",
      "text/plain": [
       "<Figure size 240x240 with 1 Axes>"
      ]
     },
     "metadata": {},
     "output_type": "display_data"
    }
   ],
   "source": [
    "vqc_1 = VQC_encoder(4, np.random.rand(4))\n",
    "\n",
    "plot_circuit(vqc_1, style=custom_style)"
   ]
  },
  {
   "cell_type": "markdown",
   "id": "54cc3436",
   "metadata": {},
   "source": [
    "## Create Data Points"
   ]
  },
  {
   "cell_type": "code",
   "execution_count": null,
   "id": "4c6ea879",
   "metadata": {},
   "outputs": [],
   "source": []
  }
 ],
 "metadata": {
  "kernelspec": {
   "display_name": ".venv",
   "language": "python",
   "name": "python3"
  },
  "language_info": {
   "codemirror_mode": {
    "name": "ipython",
    "version": 3
   },
   "file_extension": ".py",
   "mimetype": "text/x-python",
   "name": "python",
   "nbconvert_exporter": "python",
   "pygments_lexer": "ipython3",
   "version": "3.12.3"
  }
 },
 "nbformat": 4,
 "nbformat_minor": 5
}
