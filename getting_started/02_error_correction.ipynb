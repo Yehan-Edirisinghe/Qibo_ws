{
 "cells": [
  {
   "cell_type": "markdown",
   "id": "ddbbecef",
   "metadata": {},
   "source": [
    "# Basic Error Correction Codes"
   ]
  },
  {
   "cell_type": "code",
   "execution_count": 9,
   "id": "4752315c",
   "metadata": {},
   "outputs": [],
   "source": [
    "import numpy as np\n",
    "import matplotlib.pyplot as plt\n",
    "plt.style.use('dark_background')    # Use dark background for plots\n",
    "\n",
    "import qibo\n",
    "assert qibo.__version__ >= \"0.2.20\", \"This script requires qibo version 0.2.20 or higher.\"\n",
    "from qibo import Circuit\n",
    "from qibo.gates import H,CZ,X,M\n",
    "\n",
    "from qibo.ui import plot_circuit, plot_density_hist, visualize_state\n",
    "\n",
    "\n",
    "custom_style = {                    # Define a custom style for the circuit plot\n",
    "    \"facecolor\" : \"#000000\",\n",
    "    \"edgecolor\" : \"#ffffff\",\n",
    "    \"linecolor\" : \"#ffffff\",\n",
    "    \"textcolor\" : \"#ffffff\",\n",
    "    \"fillcolor\" : \"#c41b1b\",\n",
    "    \"gatecolor\" : \"#9000ff\",\n",
    "    \"controlcolor\" : \"#360000\"\n",
    "}"
   ]
  },
  {
   "cell_type": "code",
   "execution_count": null,
   "id": "32bad4cc",
   "metadata": {},
   "outputs": [
    {
     "data": {
      "image/png": "[encoded data removed]",
      "text/plain": [
       "<Figure size 240x180 with 1 Axes>"
      ]
     },
     "metadata": {},
     "output_type": "display_data"
    }
   ],
   "source": [
    "def bit_blip_circuit(error_position: int = None) -> Circuit:\n",
    "    \"\"\"Creates a 3-qubit bit-flip error correction circuit.\"\"\"\n",
    "\n",
    "    circuit = Circuit(3)\n",
    "    \n",
    "    if error_position is not None:\n",
    "        if error_position not in [0, 1, 2]:\n",
    "            raise ValueError(\"error_position must be 0, 1, or 2\")\n",
    "        # Introduce a bit-flip error (X gate) on the specified qubit\n",
    "        circuit.add(X(error_position))\n",
    "\n",
    "    \n",
    "\n",
    "    circuit.add(H(0))\n",
    "    circuit.add(CZ(0, 1))\n",
    "    circuit.add(CZ(1, 2))\n",
    "    circuit.add(M(0, 1, 2))\n",
    "\n",
    "    return circuit\n",
    "\n",
    "plot_circuit(bit_blip_circuit(1), style=custom_style)  # Plot the circuit with custom style\n",
    "plt.show()"
   ]
  }
 ],
 "metadata": {
  "kernelspec": {
   "display_name": ".venv",
   "language": "python",
   "name": "python3"
  },
  "language_info": {
   "codemirror_mode": {
    "name": "ipython",
    "version": 3
   },
   "file_extension": ".py",
   "mimetype": "text/x-python",
   "name": "python",
   "nbconvert_exporter": "python",
   "pygments_lexer": "ipython3",
   "version": "3.12.3"
  }
 },
 "nbformat": 4,
 "nbformat_minor": 5
}
